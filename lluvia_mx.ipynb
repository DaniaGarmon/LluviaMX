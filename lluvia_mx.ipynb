{
 "cells": [
  {
   "cell_type": "code",
   "execution_count": 1,
   "metadata": {},
   "outputs": [
    {
     "name": "stdout",
     "output_type": "stream",
     "text": [
      "Librerías correctamente importadas\n"
     ]
    }
   ],
   "source": [
    "# Análisis y manejo de datos\n",
    "import pandas as pd \n",
    "import numpy as np \n",
    "\n",
    "#Visualización\n",
    "import matplotlib.pyplot as plt\n",
    "import seaborn as sns\n",
    "import plotly.express as px\n",
    "\n",
    "print(\"Librerías correctamente importadas\")"
   ]
  },
  {
   "cell_type": "code",
   "execution_count": 5,
   "metadata": {},
   "outputs": [
    {
     "name": "stdout",
     "output_type": "stream",
     "text": [
      "Preview del dataset:\n"
     ]
    },
    {
     "data": {
      "text/html": [
       "<div>\n",
       "<style scoped>\n",
       "    .dataframe tbody tr th:only-of-type {\n",
       "        vertical-align: middle;\n",
       "    }\n",
       "\n",
       "    .dataframe tbody tr th {\n",
       "        vertical-align: top;\n",
       "    }\n",
       "\n",
       "    .dataframe thead th {\n",
       "        text-align: right;\n",
       "    }\n",
       "</style>\n",
       "<table border=\"1\" class=\"dataframe\">\n",
       "  <thead>\n",
       "    <tr style=\"text-align: right;\">\n",
       "      <th></th>\n",
       "      <th>PERIODO</th>\n",
       "      <th>CVE_ENT</th>\n",
       "      <th>ENTIDAD</th>\n",
       "      <th>MINIMA</th>\n",
       "      <th>MEDIA</th>\n",
       "      <th>MAXIMA</th>\n",
       "      <th>PRECIPITACION</th>\n",
       "    </tr>\n",
       "  </thead>\n",
       "  <tbody>\n",
       "    <tr>\n",
       "      <th>0</th>\n",
       "      <td>1985-01-01</td>\n",
       "      <td>0</td>\n",
       "      <td>Nacional</td>\n",
       "      <td>7.8</td>\n",
       "      <td>15.9</td>\n",
       "      <td>23.9</td>\n",
       "      <td>36.0</td>\n",
       "    </tr>\n",
       "    <tr>\n",
       "      <th>1</th>\n",
       "      <td>1985-01-01</td>\n",
       "      <td>1</td>\n",
       "      <td>Aguascalientes</td>\n",
       "      <td>3.1</td>\n",
       "      <td>12.2</td>\n",
       "      <td>21.3</td>\n",
       "      <td>4.9</td>\n",
       "    </tr>\n",
       "    <tr>\n",
       "      <th>2</th>\n",
       "      <td>1985-01-01</td>\n",
       "      <td>2</td>\n",
       "      <td>Baja California</td>\n",
       "      <td>5.6</td>\n",
       "      <td>12.9</td>\n",
       "      <td>20.2</td>\n",
       "      <td>12.2</td>\n",
       "    </tr>\n",
       "    <tr>\n",
       "      <th>3</th>\n",
       "      <td>1985-01-01</td>\n",
       "      <td>3</td>\n",
       "      <td>Baja California Sur</td>\n",
       "      <td>9.2</td>\n",
       "      <td>17.1</td>\n",
       "      <td>25.0</td>\n",
       "      <td>30.3</td>\n",
       "    </tr>\n",
       "    <tr>\n",
       "      <th>4</th>\n",
       "      <td>1985-01-01</td>\n",
       "      <td>4</td>\n",
       "      <td>Campeche</td>\n",
       "      <td>15.7</td>\n",
       "      <td>22.7</td>\n",
       "      <td>29.7</td>\n",
       "      <td>20.9</td>\n",
       "    </tr>\n",
       "  </tbody>\n",
       "</table>\n",
       "</div>"
      ],
      "text/plain": [
       "      PERIODO  CVE_ENT              ENTIDAD  MINIMA  MEDIA  MAXIMA  \\\n",
       "0  1985-01-01        0             Nacional     7.8   15.9    23.9   \n",
       "1  1985-01-01        1       Aguascalientes     3.1   12.2    21.3   \n",
       "2  1985-01-01        2      Baja California     5.6   12.9    20.2   \n",
       "3  1985-01-01        3  Baja California Sur     9.2   17.1    25.0   \n",
       "4  1985-01-01        4             Campeche    15.7   22.7    29.7   \n",
       "\n",
       "   PRECIPITACION  \n",
       "0           36.0  \n",
       "1            4.9  \n",
       "2           12.2  \n",
       "3           30.3  \n",
       "4           20.9  "
      ]
     },
     "metadata": {},
     "output_type": "display_data"
    },
    {
     "name": "stdout",
     "output_type": "stream",
     "text": [
      "Valores nulos\n",
      "PERIODO          0\n",
      "CVE_ENT          0\n",
      "ENTIDAD          0\n",
      "MINIMA           0\n",
      "MEDIA            0\n",
      "MAXIMA           0\n",
      "PRECIPITACION    0\n",
      "dtype: int64\n",
      "Apariciones de cada estado\n",
      "ENTIDAD\n",
      "Nacional               486\n",
      "Aguascalientes         486\n",
      "Baja California        486\n",
      "Baja California Sur    486\n",
      "Campeche               486\n",
      "Coahuila               486\n",
      "Colima                 486\n",
      "Chiapas                486\n",
      "Chihuahua              486\n",
      "Ciudad de México       486\n",
      "Durango                486\n",
      "Guanajuato             486\n",
      "Guerrero               486\n",
      "Hidalgo                486\n",
      "Jalisco                486\n",
      "Estado de México       486\n",
      "Michoacán              486\n",
      "Morelos                486\n",
      "Nayarit                486\n",
      "Nuevo León             486\n",
      "Oaxaca                 486\n",
      "Puebla                 486\n",
      "Querétaro              486\n",
      "Quintana Roo           486\n",
      "San Luis Potosí        486\n",
      "Sinaloa                486\n",
      "Sonora                 486\n",
      "Tabasco                486\n",
      "Tamaulipas             486\n",
      "Tlaxcala               486\n",
      "Veracruz               486\n",
      "Yucatán                486\n",
      "Zacatecas              486\n",
      "Name: count, dtype: int64\n"
     ]
    }
   ],
   "source": [
    "df = pd.read_csv('data.csv')\n",
    "print('Preview del dataset:')\n",
    "display(df.head(5))\n",
    "print('Valores nulos')\n",
    "print(df.isnull().sum())\n",
    "print('Apariciones de cada estado')\n",
    "print(df['ENTIDAD'].value_counts())"
   ]
  },
  {
   "cell_type": "code",
   "execution_count": null,
   "metadata": {},
   "outputs": [],
   "source": []
  }
 ],
 "metadata": {
  "kernelspec": {
   "display_name": "Garmon Lluvias",
   "language": "python",
   "name": "venv"
  },
  "language_info": {
   "codemirror_mode": {
    "name": "ipython",
    "version": 3
   },
   "file_extension": ".py",
   "mimetype": "text/x-python",
   "name": "python",
   "nbconvert_exporter": "python",
   "pygments_lexer": "ipython3",
   "version": "3.12.10"
  }
 },
 "nbformat": 4,
 "nbformat_minor": 2
}
